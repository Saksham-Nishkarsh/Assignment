{
 "cells": [
  {
   "cell_type": "code",
   "execution_count": 1,
   "id": "975c3b79-907a-4ed0-8a48-973afad080d9",
   "metadata": {},
   "outputs": [],
   "source": [
    "d = {}"
   ]
  },
  {
   "cell_type": "code",
   "execution_count": 2,
   "id": "c732177e-7c9b-4cb6-b2a1-2e9919056354",
   "metadata": {},
   "outputs": [
    {
     "data": {
      "text/plain": [
       "dict"
      ]
     },
     "execution_count": 2,
     "metadata": {},
     "output_type": "execute_result"
    }
   ],
   "source": [
    "type(d)"
   ]
  },
  {
   "cell_type": "code",
   "execution_count": 3,
   "id": "d9984cd6-0346-499a-b85b-4ca379a0e8e0",
   "metadata": {},
   "outputs": [],
   "source": [
    "d1 = {'key' : \"saks\"}"
   ]
  },
  {
   "cell_type": "code",
   "execution_count": 4,
   "id": "386f7c03-1630-4b8d-b94f-e2c36002b665",
   "metadata": {},
   "outputs": [
    {
     "data": {
      "text/plain": [
       "{'key': 'saks'}"
      ]
     },
     "execution_count": 4,
     "metadata": {},
     "output_type": "execute_result"
    }
   ],
   "source": [
    "d1"
   ]
  },
  {
   "cell_type": "code",
   "execution_count": 5,
   "id": "875f7696-85aa-4435-8b24-5a3ba5b68757",
   "metadata": {},
   "outputs": [],
   "source": [
    "d2 = {'name' : \"saksham\" , 'email' : \"jsaksham27@gmail.com\" , \"number\" : 8770689451}"
   ]
  },
  {
   "cell_type": "code",
   "execution_count": 6,
   "id": "aea08f03-647b-4558-8548-75f775d7eec4",
   "metadata": {},
   "outputs": [
    {
     "data": {
      "text/plain": [
       "{'name': 'saksham', 'email': 'jsaksham27@gmail.com', 'number': 8770689451}"
      ]
     },
     "execution_count": 6,
     "metadata": {},
     "output_type": "execute_result"
    }
   ],
   "source": [
    "d2"
   ]
  },
  {
   "cell_type": "code",
   "execution_count": 7,
   "id": "16ae673a-755d-4096-8937-a50caec5b9fc",
   "metadata": {},
   "outputs": [],
   "source": [
    "d3 = {234 :\"saks\", \"_wer\" : \"kumar\", True : 24234}"
   ]
  },
  {
   "cell_type": "code",
   "execution_count": 8,
   "id": "58a1ade5-159c-4301-808d-f95250055226",
   "metadata": {},
   "outputs": [
    {
     "data": {
      "text/plain": [
       "{234: 'saks', '_wer': 'kumar', True: 24234}"
      ]
     },
     "execution_count": 8,
     "metadata": {},
     "output_type": "execute_result"
    }
   ],
   "source": [
    "d3"
   ]
  },
  {
   "cell_type": "code",
   "execution_count": 9,
   "id": "5b1d0a13-414b-4627-b686-e24ea97a7dbc",
   "metadata": {},
   "outputs": [
    {
     "data": {
      "text/plain": [
       "'saks'"
      ]
     },
     "execution_count": 9,
     "metadata": {},
     "output_type": "execute_result"
    }
   ],
   "source": [
    "d3[234]"
   ]
  },
  {
   "cell_type": "code",
   "execution_count": 10,
   "id": "ad721fc1-97d0-488b-8d6a-701ac1054dfc",
   "metadata": {},
   "outputs": [
    {
     "data": {
      "text/plain": [
       "24234"
      ]
     },
     "execution_count": 10,
     "metadata": {},
     "output_type": "execute_result"
    }
   ],
   "source": [
    "d3[True]"
   ]
  },
  {
   "cell_type": "code",
   "execution_count": 11,
   "id": "647eda4d-3f9d-41fe-a254-af3875b7abd3",
   "metadata": {},
   "outputs": [
    {
     "data": {
      "text/plain": [
       "24234"
      ]
     },
     "execution_count": 11,
     "metadata": {},
     "output_type": "execute_result"
    }
   ],
   "source": [
    "d3[1]"
   ]
  },
  {
   "cell_type": "code",
   "execution_count": 12,
   "id": "7144febe-e70b-4744-bf6f-a30ba73e4475",
   "metadata": {},
   "outputs": [],
   "source": [
    "d4 = {'name' : \"saks\", 'mail_id' : \"sj@gmail.com\", 'name' :\"saksham\"}"
   ]
  },
  {
   "cell_type": "code",
   "execution_count": 13,
   "id": "3d9435ec-87be-42b4-b052-ed675399f3f0",
   "metadata": {},
   "outputs": [
    {
     "data": {
      "text/plain": [
       "'saksham'"
      ]
     },
     "execution_count": 13,
     "metadata": {},
     "output_type": "execute_result"
    }
   ],
   "source": [
    "d4['name']"
   ]
  },
  {
   "cell_type": "code",
   "execution_count": 14,
   "id": "8676e446-9b73-4383-8152-4ba2c0351073",
   "metadata": {},
   "outputs": [],
   "source": [
    "d5 = {\"company\" : \"pwskills\", \"course\" : [\"web dev\", \"data science\", \"java wiith dsa system design\"]}"
   ]
  },
  {
   "cell_type": "code",
   "execution_count": 15,
   "id": "6b6097ce-79ef-4bd2-a855-e622e8009760",
   "metadata": {},
   "outputs": [
    {
     "data": {
      "text/plain": [
       "{'company': 'pwskills',\n",
       " 'course': ['web dev', 'data science', 'java wiith dsa system design']}"
      ]
     },
     "execution_count": 15,
     "metadata": {},
     "output_type": "execute_result"
    }
   ],
   "source": [
    "d5"
   ]
  },
  {
   "cell_type": "code",
   "execution_count": 16,
   "id": "8213a77a-6ed8-44f4-94b5-d2ef39b7f579",
   "metadata": {},
   "outputs": [
    {
     "data": {
      "text/plain": [
       "['web dev', 'data science', 'java wiith dsa system design']"
      ]
     },
     "execution_count": 16,
     "metadata": {},
     "output_type": "execute_result"
    }
   ],
   "source": [
    "d5['course']"
   ]
  },
  {
   "cell_type": "code",
   "execution_count": 17,
   "id": "c074ff39-ba3a-4cb6-8f25-e6f2b88eafb5",
   "metadata": {},
   "outputs": [
    {
     "data": {
      "text/plain": [
       "'java wiith dsa system design'"
      ]
     },
     "execution_count": 17,
     "metadata": {},
     "output_type": "execute_result"
    }
   ],
   "source": [
    "d5['course'][2]"
   ]
  },
  {
   "cell_type": "code",
   "execution_count": 18,
   "id": "54265bb1-5882-40ae-97d2-80b8a4e67898",
   "metadata": {},
   "outputs": [],
   "source": [
    "d6 = {\"numbers\" : [2,34,3,34,34] , \"assignment\" : (1,2,3,4,5,6), \"launch_date\" : {28,12,14}, \"class_time\" : {\"web_dev\" : 8, \"data science masters\" : 8, \"java with dsa and system design\" : 7}}"
   ]
  },
  {
   "cell_type": "code",
   "execution_count": 19,
   "id": "41051125-6595-4452-86d3-4bb1de717b3f",
   "metadata": {},
   "outputs": [
    {
     "data": {
      "text/plain": [
       "{'numbers': [2, 34, 3, 34, 34],\n",
       " 'assignment': (1, 2, 3, 4, 5, 6),\n",
       " 'launch_date': {12, 14, 28},\n",
       " 'class_time': {'web_dev': 8,\n",
       "  'data science masters': 8,\n",
       "  'java with dsa and system design': 7}}"
      ]
     },
     "execution_count": 19,
     "metadata": {},
     "output_type": "execute_result"
    }
   ],
   "source": [
    "d6"
   ]
  },
  {
   "cell_type": "code",
   "execution_count": 20,
   "id": "a22cc3b7-9f6e-49b9-8093-220f662efc3b",
   "metadata": {},
   "outputs": [
    {
     "data": {
      "text/plain": [
       "7"
      ]
     },
     "execution_count": 20,
     "metadata": {},
     "output_type": "execute_result"
    }
   ],
   "source": [
    "d6['class_time']['java with dsa and system design']"
   ]
  },
  {
   "cell_type": "code",
   "execution_count": 21,
   "id": "d2c160a7-0851-4e4a-b4c6-33cc592347a8",
   "metadata": {},
   "outputs": [],
   "source": [
    "d6['mentor'] = [\"shudhanshu\", \"krish\", \"anurag\", \"hayder\"]"
   ]
  },
  {
   "cell_type": "code",
   "execution_count": 22,
   "id": "9474c755-fdf3-48dc-80b6-05a6ed8d0683",
   "metadata": {},
   "outputs": [
    {
     "data": {
      "text/plain": [
       "{'numbers': [2, 34, 3, 34, 34],\n",
       " 'assignment': (1, 2, 3, 4, 5, 6),\n",
       " 'launch_date': {12, 14, 28},\n",
       " 'class_time': {'web_dev': 8,\n",
       "  'data science masters': 8,\n",
       "  'java with dsa and system design': 7},\n",
       " 'mentor': ['shudhanshu', 'krish', 'anurag', 'hayder']}"
      ]
     },
     "execution_count": 22,
     "metadata": {},
     "output_type": "execute_result"
    }
   ],
   "source": [
    "d6"
   ]
  },
  {
   "cell_type": "code",
   "execution_count": 23,
   "id": "79354274-4404-47e7-b85f-dd19e77a20f5",
   "metadata": {},
   "outputs": [],
   "source": [
    "del d6['numbers']"
   ]
  },
  {
   "cell_type": "code",
   "execution_count": 24,
   "id": "50e75740-3546-48a6-a591-0f6b2dd09c00",
   "metadata": {},
   "outputs": [
    {
     "data": {
      "text/plain": [
       "{'assignment': (1, 2, 3, 4, 5, 6),\n",
       " 'launch_date': {12, 14, 28},\n",
       " 'class_time': {'web_dev': 8,\n",
       "  'data science masters': 8,\n",
       "  'java with dsa and system design': 7},\n",
       " 'mentor': ['shudhanshu', 'krish', 'anurag', 'hayder']}"
      ]
     },
     "execution_count": 24,
     "metadata": {},
     "output_type": "execute_result"
    }
   ],
   "source": [
    "d6"
   ]
  },
  {
   "cell_type": "code",
   "execution_count": 25,
   "id": "edc8d19a-25ba-4d05-995d-087b3094b5b0",
   "metadata": {},
   "outputs": [
    {
     "data": {
      "text/plain": [
       "dict_keys(['assignment', 'launch_date', 'class_time', 'mentor'])"
      ]
     },
     "execution_count": 25,
     "metadata": {},
     "output_type": "execute_result"
    }
   ],
   "source": [
    "d6.keys()"
   ]
  },
  {
   "cell_type": "code",
   "execution_count": 26,
   "id": "c9eedc47-58bb-4ba9-a844-41d4fb60042d",
   "metadata": {},
   "outputs": [
    {
     "data": {
      "text/plain": [
       "['assignment', 'launch_date', 'class_time', 'mentor']"
      ]
     },
     "execution_count": 26,
     "metadata": {},
     "output_type": "execute_result"
    }
   ],
   "source": [
    "list(d6.keys())"
   ]
  },
  {
   "cell_type": "code",
   "execution_count": 27,
   "id": "803f5d66-faf4-4f2b-b233-47272792f1cb",
   "metadata": {},
   "outputs": [
    {
     "data": {
      "text/plain": [
       "[(1, 2, 3, 4, 5, 6),\n",
       " {12, 14, 28},\n",
       " {'web_dev': 8,\n",
       "  'data science masters': 8,\n",
       "  'java with dsa and system design': 7},\n",
       " ['shudhanshu', 'krish', 'anurag', 'hayder']]"
      ]
     },
     "execution_count": 27,
     "metadata": {},
     "output_type": "execute_result"
    }
   ],
   "source": [
    "list(d6.values())"
   ]
  },
  {
   "cell_type": "code",
   "execution_count": 28,
   "id": "1fea848b-dc0a-46ef-9e50-72a8a1504cd9",
   "metadata": {},
   "outputs": [
    {
     "data": {
      "text/plain": [
       "[('assignment', (1, 2, 3, 4, 5, 6)),\n",
       " ('launch_date', {12, 14, 28}),\n",
       " ('class_time',\n",
       "  {'web_dev': 8,\n",
       "   'data science masters': 8,\n",
       "   'java with dsa and system design': 7}),\n",
       " ('mentor', ['shudhanshu', 'krish', 'anurag', 'hayder'])]"
      ]
     },
     "execution_count": 28,
     "metadata": {},
     "output_type": "execute_result"
    }
   ],
   "source": [
    "list(d6.items())"
   ]
  },
  {
   "cell_type": "code",
   "execution_count": 29,
   "id": "daec4c05-59f9-40e1-9620-ff658d3f2fd8",
   "metadata": {},
   "outputs": [
    {
     "data": {
      "text/plain": [
       "(1, 2, 3, 4, 5, 6)"
      ]
     },
     "execution_count": 29,
     "metadata": {},
     "output_type": "execute_result"
    }
   ],
   "source": [
    "d6.pop('assignment')"
   ]
  },
  {
   "cell_type": "code",
   "execution_count": 30,
   "id": "bf3fa736-f57e-4ea4-8b16-adf20958c314",
   "metadata": {},
   "outputs": [
    {
     "data": {
      "text/plain": [
       "{'launch_date': {12, 14, 28},\n",
       " 'class_time': {'web_dev': 8,\n",
       "  'data science masters': 8,\n",
       "  'java with dsa and system design': 7},\n",
       " 'mentor': ['shudhanshu', 'krish', 'anurag', 'hayder']}"
      ]
     },
     "execution_count": 30,
     "metadata": {},
     "output_type": "execute_result"
    }
   ],
   "source": [
    "d6"
   ]
  },
  {
   "cell_type": "code",
   "execution_count": 31,
   "id": "0c6c2eeb-54bd-4c0a-bb23-d5e83079e35e",
   "metadata": {},
   "outputs": [
    {
     "name": "stdout",
     "output_type": "stream",
     "text": [
      "you will be a part of A3 batch\n"
     ]
    }
   ],
   "source": [
    "marks = 10\n",
    "if marks>=80:\n",
    "    print(\"you will be a part of A0 batch\")\n",
    "elif marks >= 60 and marks <80:\n",
    "    print(\"you will be a part of A1 batch\")\n",
    "elif marks >= 40 and marks <60:\n",
    "    print(\"you will be a part of A2 batch\")\n",
    "else:\n",
    "    print(\"you will be a part of A3 batch\")"
   ]
  },
  {
   "cell_type": "code",
   "execution_count": 32,
   "id": "baa019e5-3ed8-4b3d-a483-7715ec776594",
   "metadata": {},
   "outputs": [
    {
     "name": "stdin",
     "output_type": "stream",
     "text": [
      "enter your marks 87\n"
     ]
    },
    {
     "name": "stdout",
     "output_type": "stream",
     "text": [
      "you will be a part of A0 batch\n"
     ]
    }
   ],
   "source": [
    "marks = int(input(\"enter your marks\"))\n",
    "if marks>=80:\n",
    "    print(\"you will be a part of A0 batch\")\n",
    "elif marks >= 60 and marks <80:\n",
    "    print(\"you will be a part of A1 batch\")\n",
    "elif marks >= 40 and marks <60:\n",
    "    print(\"you will be a part of A2 batch\")\n",
    "else:\n",
    "    print(\"you will be a part of A3 batch\")"
   ]
  },
  {
   "cell_type": "code",
   "execution_count": 34,
   "id": "2bdb3f06-6a7e-41c1-af65-6a7e9c299ee7",
   "metadata": {},
   "outputs": [
    {
     "name": "stdin",
     "output_type": "stream",
     "text": [
      "enter price 1200\n"
     ]
    },
    {
     "name": "stdout",
     "output_type": "stream",
     "text": [
      "i will not purchase\n",
      "its okay\n"
     ]
    }
   ],
   "source": [
    "price = int(input(\"enter price\"))\n",
    "if price > 1000:\n",
    "    print(\"i will not purchase\")\n",
    "    if price >5000:\n",
    "        print(\"this is too much\")\n",
    "    elif price <2000:\n",
    "        print(\"its okay\")\n",
    "else:\n",
    "    print(\"i will purchase\")\n",
    "        "
   ]
  },
  {
   "cell_type": "code",
   "execution_count": 37,
   "id": "5fc1027c-3711-4e64-9382-d7e0338e869e",
   "metadata": {},
   "outputs": [],
   "source": [
    "l = [1,2,3,4,5,6,7,8]"
   ]
  },
  {
   "cell_type": "code",
   "execution_count": 40,
   "id": "482f1556-baa1-4e8c-9e93-c59a5a7e7cca",
   "metadata": {},
   "outputs": [
    {
     "name": "stdout",
     "output_type": "stream",
     "text": [
      "2\n",
      "3\n",
      "4\n",
      "5\n",
      "6\n",
      "7\n",
      "8\n",
      "9\n"
     ]
    }
   ],
   "source": [
    "l1 = []\n",
    "for i in l:\n",
    "    print(i+1)\n",
    "    l1.append(i+1)"
   ]
  },
  {
   "cell_type": "code",
   "execution_count": 41,
   "id": "ad57d0ce-a19d-4526-a620-b3c0df92e18b",
   "metadata": {},
   "outputs": [
    {
     "data": {
      "text/plain": [
       "[2, 3, 4, 5, 6, 7, 8, 9]"
      ]
     },
     "execution_count": 41,
     "metadata": {},
     "output_type": "execute_result"
    }
   ],
   "source": [
    "l1"
   ]
  },
  {
   "cell_type": "code",
   "execution_count": 42,
   "id": "fc8bf5a8-276f-4d4b-922a-820fa52b5e9f",
   "metadata": {},
   "outputs": [],
   "source": [
    "l = [\"saks\", \"kumar\", \"pwskills\", \"course\"]"
   ]
  },
  {
   "cell_type": "code",
   "execution_count": 43,
   "id": "c5f2f6fc-a102-48ed-a4f9-675d07dcd46a",
   "metadata": {},
   "outputs": [
    {
     "name": "stdout",
     "output_type": "stream",
     "text": [
      "saks\n",
      "kumar\n",
      "pwskills\n",
      "course\n"
     ]
    }
   ],
   "source": [
    "l3 = []\n",
    "for i in l:\n",
    "    print(i)\n",
    "    l3.append(i.upper())"
   ]
  },
  {
   "cell_type": "code",
   "execution_count": 44,
   "id": "49d0a92d-c27a-4a2e-84c0-36b59782be4f",
   "metadata": {},
   "outputs": [
    {
     "data": {
      "text/plain": [
       "['SAKS', 'KUMAR', 'PWSKILLS', 'COURSE']"
      ]
     },
     "execution_count": 44,
     "metadata": {},
     "output_type": "execute_result"
    }
   ],
   "source": [
    "l3"
   ]
  },
  {
   "cell_type": "code",
   "execution_count": 45,
   "id": "ef0ab9d5-1740-48d0-90f3-1e7aa5e1ecc4",
   "metadata": {},
   "outputs": [],
   "source": [
    "l = [1,2,3,4,4,\"saks\", \"kumar\", 324,34.456,\"abc\"]"
   ]
  },
  {
   "cell_type": "code",
   "execution_count": 58,
   "id": "e98755ba-3be1-475e-9abe-751771c2c883",
   "metadata": {},
   "outputs": [],
   "source": [
    "l1_num = []\n",
    "l2_str = []\n",
    "for i in l:\n",
    "    if type(i) == int or type(i) ==float:\n",
    "        l1_num.append(i)\n",
    "    else:\n",
    "        l2_str.append(i)"
   ]
  },
  {
   "cell_type": "code",
   "execution_count": 59,
   "id": "d499c5bc-017d-4dbf-a3fc-75453aaa994c",
   "metadata": {},
   "outputs": [
    {
     "data": {
      "text/plain": [
       "[1, 2, 3, 4, 4, 324, 34.456]"
      ]
     },
     "execution_count": 59,
     "metadata": {},
     "output_type": "execute_result"
    }
   ],
   "source": [
    "l1_num"
   ]
  },
  {
   "cell_type": "code",
   "execution_count": 60,
   "id": "87c2d6a8-3662-4f2f-9aba-ed221ef62c6c",
   "metadata": {},
   "outputs": [
    {
     "data": {
      "text/plain": [
       "['saks', 'kumar', 'abc']"
      ]
     },
     "execution_count": 60,
     "metadata": {},
     "output_type": "execute_result"
    }
   ],
   "source": [
    "l2_str"
   ]
  },
  {
   "cell_type": "code",
   "execution_count": null,
   "id": "7418adfe-d34e-4ae5-9ab1-8d7e6048a5e3",
   "metadata": {},
   "outputs": [],
   "source": []
  }
 ],
 "metadata": {
  "kernelspec": {
   "display_name": "Python 3 (ipykernel)",
   "language": "python",
   "name": "python3"
  },
  "language_info": {
   "codemirror_mode": {
    "name": "ipython",
    "version": 3
   },
   "file_extension": ".py",
   "mimetype": "text/x-python",
   "name": "python",
   "nbconvert_exporter": "python",
   "pygments_lexer": "ipython3",
   "version": "3.10.8"
  }
 },
 "nbformat": 4,
 "nbformat_minor": 5
}
